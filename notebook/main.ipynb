{
 "cells": [
  {
   "cell_type": "markdown",
   "metadata": {},
   "source": [
    "# Aflatoxin Risk Classification in Maize Grains (Rwanda)\n",
    "\n",
    "This notebook explores and analyzes a dataset provided by Aflakiosk Ltd. It contains grain quality parameters used to classify maize into four consumption categories based on aflatoxin risk thresholds.\n",
    "\n",
    "The ultimate goal is to train a machine learning model that can predict whether a maize grain sample is:\n",
    "- **Safe for Children (≤5 μg/kg)**\n",
    "- **Safe for Adults (5-20 μg/kg)**\n",
    "- **Animal Feeding Only (20-300 μg/kg)**\n",
    "- **Unsafe for Any Use (>300 μg/kg)**\n",
    "\n",
    "This EDA phase performs an in-depth analysis to:\n",
    "- Understand the data\n",
    "- Detect data quality issues\n",
    "- Reveal feature-target relationships\n",
    "- Prepare for model training\n"
   ]
  },
  {
   "cell_type": "code",
   "execution_count": 1,
   "metadata": {},
   "outputs": [],
   "source": [
    "import pandas as pd\n",
    "import numpy as np\n",
    "import seaborn as sns\n",
    "import matplotlib.pyplot as plt\n",
    "import missingno as msno\n",
    "from scipy.stats import zscore"
   ]
  },
  {
   "cell_type": "code",
   "execution_count": 2,
   "metadata": {},
   "outputs": [
    {
     "data": {
      "text/html": [
       "<div>\n",
       "<style scoped>\n",
       "    .dataframe tbody tr th:only-of-type {\n",
       "        vertical-align: middle;\n",
       "    }\n",
       "\n",
       "    .dataframe tbody tr th {\n",
       "        vertical-align: top;\n",
       "    }\n",
       "\n",
       "    .dataframe thead th {\n",
       "        text-align: right;\n",
       "    }\n",
       "</style>\n",
       "<table border=\"1\" class=\"dataframe\">\n",
       "  <thead>\n",
       "    <tr style=\"text-align: right;\">\n",
       "      <th></th>\n",
       "      <th>id</th>\n",
       "      <th>batch_label</th>\n",
       "      <th>batch_quantity_mts</th>\n",
       "      <th>batch_crop</th>\n",
       "      <th>batch_product</th>\n",
       "      <th>product_origin</th>\n",
       "      <th>year</th>\n",
       "      <th>test_type</th>\n",
       "      <th>storage_type</th>\n",
       "      <th>moisture_maize_grain</th>\n",
       "      <th>...</th>\n",
       "      <th>url</th>\n",
       "      <th>theurl</th>\n",
       "      <th>expiration</th>\n",
       "      <th>production</th>\n",
       "      <th>batchnumber</th>\n",
       "      <th>batchnumberflour</th>\n",
       "      <th>linkedclient</th>\n",
       "      <th>linkedtones</th>\n",
       "      <th>labtested</th>\n",
       "      <th>sampleowne</th>\n",
       "    </tr>\n",
       "  </thead>\n",
       "  <tbody>\n",
       "    <tr>\n",
       "      <th>0</th>\n",
       "      <td>1</td>\n",
       "      <td>Outside- tarpaulin</td>\n",
       "      <td>NaN</td>\n",
       "      <td>Maize</td>\n",
       "      <td>Grain</td>\n",
       "      <td>Uganda</td>\n",
       "      <td>2022.0</td>\n",
       "      <td>First</td>\n",
       "      <td>Store</td>\n",
       "      <td>14.2</td>\n",
       "      <td>...</td>\n",
       "      <td>1.0</td>\n",
       "      <td>www.aflakiosk.com</td>\n",
       "      <td>NaN</td>\n",
       "      <td>NaN</td>\n",
       "      <td>NaN</td>\n",
       "      <td>NaN</td>\n",
       "      <td>NaN</td>\n",
       "      <td>NaN</td>\n",
       "      <td>Mubende Laboratory</td>\n",
       "      <td>NaN</td>\n",
       "    </tr>\n",
       "    <tr>\n",
       "      <th>1</th>\n",
       "      <td>2</td>\n",
       "      <td>Inside the Atore (lotA) Left</td>\n",
       "      <td>NaN</td>\n",
       "      <td>Maize</td>\n",
       "      <td>Grain</td>\n",
       "      <td>Uganda</td>\n",
       "      <td>2022.0</td>\n",
       "      <td>First</td>\n",
       "      <td>Store</td>\n",
       "      <td>14.8</td>\n",
       "      <td>...</td>\n",
       "      <td>NaN</td>\n",
       "      <td>NaN</td>\n",
       "      <td>NaN</td>\n",
       "      <td>NaN</td>\n",
       "      <td>NaN</td>\n",
       "      <td>NaN</td>\n",
       "      <td>NaN</td>\n",
       "      <td>NaN</td>\n",
       "      <td>Mubende Laboratory</td>\n",
       "      <td>NaN</td>\n",
       "    </tr>\n",
       "    <tr>\n",
       "      <th>2</th>\n",
       "      <td>3</td>\n",
       "      <td>In the middle (inside the store)</td>\n",
       "      <td>NaN</td>\n",
       "      <td>Maize</td>\n",
       "      <td>Grain</td>\n",
       "      <td>Uganda</td>\n",
       "      <td>2022.0</td>\n",
       "      <td>First</td>\n",
       "      <td>warehouse</td>\n",
       "      <td>13.3</td>\n",
       "      <td>...</td>\n",
       "      <td>NaN</td>\n",
       "      <td>NaN</td>\n",
       "      <td>NaN</td>\n",
       "      <td>NaN</td>\n",
       "      <td>NaN</td>\n",
       "      <td>NaN</td>\n",
       "      <td>NaN</td>\n",
       "      <td>NaN</td>\n",
       "      <td>Mubende Laboratory</td>\n",
       "      <td>NaN</td>\n",
       "    </tr>\n",
       "    <tr>\n",
       "      <th>3</th>\n",
       "      <td>4</td>\n",
       "      <td>Trucks</td>\n",
       "      <td>NaN</td>\n",
       "      <td>Maize</td>\n",
       "      <td>Grain</td>\n",
       "      <td>Uganda</td>\n",
       "      <td>2022.0</td>\n",
       "      <td>First</td>\n",
       "      <td>Store</td>\n",
       "      <td>14.5</td>\n",
       "      <td>...</td>\n",
       "      <td>NaN</td>\n",
       "      <td>NaN</td>\n",
       "      <td>NaN</td>\n",
       "      <td>NaN</td>\n",
       "      <td>NaN</td>\n",
       "      <td>NaN</td>\n",
       "      <td>NaN</td>\n",
       "      <td>NaN</td>\n",
       "      <td>Mubende Laboratory</td>\n",
       "      <td>NaN</td>\n",
       "    </tr>\n",
       "    <tr>\n",
       "      <th>4</th>\n",
       "      <td>14</td>\n",
       "      <td>Visionary- sample 1</td>\n",
       "      <td>32.0</td>\n",
       "      <td>Maize</td>\n",
       "      <td>Grain</td>\n",
       "      <td>Tanzania</td>\n",
       "      <td>2022.0</td>\n",
       "      <td>First</td>\n",
       "      <td>WareHouse</td>\n",
       "      <td>12.4</td>\n",
       "      <td>...</td>\n",
       "      <td>NaN</td>\n",
       "      <td>NaN</td>\n",
       "      <td>NaN</td>\n",
       "      <td>NaN</td>\n",
       "      <td>NaN</td>\n",
       "      <td>NaN</td>\n",
       "      <td>NaN</td>\n",
       "      <td>NaN</td>\n",
       "      <td>Mubende Laboratory</td>\n",
       "      <td>NaN</td>\n",
       "    </tr>\n",
       "  </tbody>\n",
       "</table>\n",
       "<p>5 rows × 45 columns</p>\n",
       "</div>"
      ],
      "text/plain": [
       "   id                       batch_label  batch_quantity_mts batch_crop  \\\n",
       "0   1                Outside- tarpaulin                 NaN      Maize   \n",
       "1   2      Inside the Atore (lotA) Left                 NaN      Maize   \n",
       "2   3  In the middle (inside the store)                 NaN      Maize   \n",
       "3   4                            Trucks                 NaN      Maize   \n",
       "4  14               Visionary- sample 1                32.0      Maize   \n",
       "\n",
       "  batch_product product_origin    year test_type storage_type  \\\n",
       "0         Grain         Uganda  2022.0     First        Store   \n",
       "1         Grain         Uganda  2022.0     First        Store   \n",
       "2         Grain         Uganda  2022.0     First    warehouse   \n",
       "3         Grain         Uganda  2022.0     First        Store   \n",
       "4         Grain       Tanzania  2022.0     First    WareHouse   \n",
       "\n",
       "   moisture_maize_grain  ...  url             theurl expiration  production  \\\n",
       "0                  14.2  ...  1.0  www.aflakiosk.com        NaN         NaN   \n",
       "1                  14.8  ...  NaN                NaN        NaN         NaN   \n",
       "2                  13.3  ...  NaN                NaN        NaN         NaN   \n",
       "3                  14.5  ...  NaN                NaN        NaN         NaN   \n",
       "4                  12.4  ...  NaN                NaN        NaN         NaN   \n",
       "\n",
       "  batchnumber  batchnumberflour linkedclient  linkedtones           labtested  \\\n",
       "0         NaN               NaN          NaN          NaN  Mubende Laboratory   \n",
       "1         NaN               NaN          NaN          NaN  Mubende Laboratory   \n",
       "2         NaN               NaN          NaN          NaN  Mubende Laboratory   \n",
       "3         NaN               NaN          NaN          NaN  Mubende Laboratory   \n",
       "4         NaN               NaN          NaN          NaN  Mubende Laboratory   \n",
       "\n",
       "  sampleowne  \n",
       "0        NaN  \n",
       "1        NaN  \n",
       "2        NaN  \n",
       "3        NaN  \n",
       "4        NaN  \n",
       "\n",
       "[5 rows x 45 columns]"
      ]
     },
     "execution_count": 2,
     "metadata": {},
     "output_type": "execute_result"
    }
   ],
   "source": [
    "df = pd.read_csv('data.csv')\n",
    "df.head()\n"
   ]
  },
  {
   "cell_type": "code",
   "execution_count": 3,
   "metadata": {},
   "outputs": [
    {
     "data": {
      "text/plain": [
       "Index(['id', 'batch_label', 'batch_quantity_mts', 'batch_crop',\n",
       "       'batch_product', 'product_origin', 'year', 'test_type', 'storage_type',\n",
       "       'moisture_maize_grain', 'Immaturegrains', 'Discolored_grains',\n",
       "       'Liveinfestation', 'total_aflatoxins_ug_kg_maize_grain',\n",
       "       'abnormal_odours_maize_grain', 'final_grade', 'test_date',\n",
       "       'organisation_id', 'nvcondition', 'season', 'tester', 'description',\n",
       "       'Other_colors', 'broken_kernels_percent_maize_grain',\n",
       "       'foreign_matter_percent_maize_grain', 'pest_damaged', 'rotten',\n",
       "       'condsample', 'sampledby', 'bags_sampled', 'districts', 'price',\n",
       "       'moisturechanges', 'romerid', 'totaldefective', 'url', 'theurl',\n",
       "       'expiration', 'production', 'batchnumber', 'batchnumberflour',\n",
       "       'linkedclient', 'linkedtones', 'labtested', 'sampleowne'],\n",
       "      dtype='object')"
      ]
     },
     "execution_count": 3,
     "metadata": {},
     "output_type": "execute_result"
    }
   ],
   "source": [
    "df.columns"
   ]
  },
  {
   "cell_type": "code",
   "execution_count": 4,
   "metadata": {},
   "outputs": [
    {
     "name": "stdout",
     "output_type": "stream",
     "text": [
      "<class 'pandas.core.frame.DataFrame'>\n",
      "RangeIndex: 1799 entries, 0 to 1798\n",
      "Data columns (total 45 columns):\n",
      " #   Column                              Non-Null Count  Dtype  \n",
      "---  ------                              --------------  -----  \n",
      " 0   id                                  1799 non-null   int64  \n",
      " 1   batch_label                         1799 non-null   object \n",
      " 2   batch_quantity_mts                  1705 non-null   float64\n",
      " 3   batch_crop                          1799 non-null   object \n",
      " 4   batch_product                       1799 non-null   object \n",
      " 5   product_origin                      1728 non-null   object \n",
      " 6   year                                1727 non-null   float64\n",
      " 7   test_type                           1440 non-null   object \n",
      " 8   storage_type                        251 non-null    object \n",
      " 9   moisture_maize_grain                1722 non-null   float64\n",
      " 10  Immaturegrains                      1272 non-null   float64\n",
      " 11  Discolored_grains                   1240 non-null   float64\n",
      " 12  Liveinfestation                     1268 non-null   object \n",
      " 13  total_aflatoxins_ug_kg_maize_grain  1782 non-null   float64\n",
      " 14  abnormal_odours_maize_grain         1276 non-null   object \n",
      " 15  final_grade                         1726 non-null   float64\n",
      " 16  test_date                           1799 non-null   object \n",
      " 17  organisation_id                     1799 non-null   int64  \n",
      " 18  nvcondition                         0 non-null      float64\n",
      " 19  season                              1242 non-null   object \n",
      " 20  tester                              1342 non-null   object \n",
      " 21  description                         251 non-null    object \n",
      " 22  Other_colors                        1108 non-null   float64\n",
      " 23  broken_kernels_percent_maize_grain  1254 non-null   float64\n",
      " 24  foreign_matter_percent_maize_grain  1255 non-null   float64\n",
      " 25  pest_damaged                        1270 non-null   float64\n",
      " 26  rotten                              1264 non-null   float64\n",
      " 27  condsample                          251 non-null    object \n",
      " 28  sampledby                           1447 non-null   object \n",
      " 29  bags_sampled                        1399 non-null   float64\n",
      " 30  districts                           451 non-null    object \n",
      " 31  price                               1711 non-null   float64\n",
      " 32  moisturechanges                     0 non-null      float64\n",
      " 33  romerid                             1635 non-null   object \n",
      " 34  totaldefective                      1149 non-null   float64\n",
      " 35  url                                 9 non-null      float64\n",
      " 36  theurl                              242 non-null    object \n",
      " 37  expiration                          109 non-null    object \n",
      " 38  production                          110 non-null    object \n",
      " 39  batchnumber                         3 non-null      float64\n",
      " 40  batchnumberflour                    91 non-null     object \n",
      " 41  linkedclient                        0 non-null      float64\n",
      " 42  linkedtones                         0 non-null      float64\n",
      " 43  labtested                           1799 non-null   object \n",
      " 44  sampleowne                          61 non-null     object \n",
      "dtypes: float64(21), int64(2), object(22)\n",
      "memory usage: 632.6+ KB\n"
     ]
    }
   ],
   "source": [
    "df.info()"
   ]
  },
  {
   "cell_type": "markdown",
   "metadata": {},
   "source": [
    "### Deleting sensitive dat like the names of the testers and samplers"
   ]
  },
  {
   "cell_type": "code",
   "execution_count": 10,
   "metadata": {},
   "outputs": [],
   "source": [
    "df = df.drop(columns=[\"sampleowne\", \"tester\", \"sampledby\"], errors='ignore')\n"
   ]
  },
  {
   "cell_type": "code",
   "execution_count": 11,
   "metadata": {},
   "outputs": [
    {
     "data": {
      "text/plain": [
       "id                                       0\n",
       "batch_label                              0\n",
       "batch_quantity_mts                      94\n",
       "batch_crop                               0\n",
       "batch_product                            0\n",
       "product_origin                          71\n",
       "year                                    72\n",
       "test_type                              359\n",
       "storage_type                          1548\n",
       "moisture_maize_grain                    77\n",
       "Immaturegrains                         527\n",
       "Discolored_grains                      559\n",
       "Liveinfestation                        531\n",
       "total_aflatoxins_ug_kg_maize_grain      17\n",
       "abnormal_odours_maize_grain            523\n",
       "final_grade                             73\n",
       "test_date                                0\n",
       "organisation_id                          0\n",
       "nvcondition                           1799\n",
       "season                                 557\n",
       "description                           1548\n",
       "Other_colors                           691\n",
       "broken_kernels_percent_maize_grain     545\n",
       "foreign_matter_percent_maize_grain     544\n",
       "pest_damaged                           529\n",
       "rotten                                 535\n",
       "condsample                            1548\n",
       "bags_sampled                           400\n",
       "districts                             1348\n",
       "price                                   88\n",
       "moisturechanges                       1799\n",
       "romerid                                164\n",
       "totaldefective                         650\n",
       "url                                   1790\n",
       "theurl                                1557\n",
       "expiration                            1690\n",
       "production                            1689\n",
       "batchnumber                           1796\n",
       "batchnumberflour                      1708\n",
       "linkedclient                          1799\n",
       "linkedtones                           1799\n",
       "labtested                                0\n",
       "dtype: int64"
      ]
     },
     "execution_count": 11,
     "metadata": {},
     "output_type": "execute_result"
    }
   ],
   "source": [
    "df.isnull().sum()"
   ]
  },
  {
   "cell_type": "markdown",
   "metadata": {},
   "source": [
    "### Checking if there's a more than one crop"
   ]
  },
  {
   "cell_type": "code",
   "execution_count": 12,
   "metadata": {},
   "outputs": [
    {
     "name": "stdout",
     "output_type": "stream",
     "text": [
      "['Maize']\n"
     ]
    }
   ],
   "source": [
    "print(df[\"batch_crop\"].unique())\n"
   ]
  },
  {
   "cell_type": "markdown",
   "metadata": {},
   "source": [
    "### Cheching Unique Products in the dataset"
   ]
  },
  {
   "cell_type": "code",
   "execution_count": 14,
   "metadata": {},
   "outputs": [
    {
     "name": "stdout",
     "output_type": "stream",
     "text": [
      "batch_product\n",
      "Grain    1316\n",
      "Flour     382\n",
      "Feed      101\n",
      "Name: count, dtype: int64\n"
     ]
    }
   ],
   "source": [
    "print(df[\"batch_product\"].value_counts())\n",
    "\n"
   ]
  },
  {
   "cell_type": "markdown",
   "metadata": {},
   "source": [
    "We are going to train on 1316 datapoint to predict aflatoxin since we will be training on maize grain"
   ]
  },
  {
   "cell_type": "code",
   "execution_count": 15,
   "metadata": {},
   "outputs": [],
   "source": [
    "grain_data = df[df[\"batch_product\"] == \"Grain\"]\n"
   ]
  },
  {
   "cell_type": "code",
   "execution_count": 17,
   "metadata": {},
   "outputs": [
    {
     "data": {
      "text/plain": [
       "Index(['id', 'batch_label', 'batch_quantity_mts', 'batch_crop',\n",
       "       'batch_product', 'product_origin', 'year', 'test_type', 'storage_type',\n",
       "       'moisture_maize_grain', 'Immaturegrains', 'Discolored_grains',\n",
       "       'Liveinfestation', 'total_aflatoxins_ug_kg_maize_grain',\n",
       "       'abnormal_odours_maize_grain', 'final_grade', 'test_date',\n",
       "       'organisation_id', 'nvcondition', 'season', 'description',\n",
       "       'Other_colors', 'broken_kernels_percent_maize_grain',\n",
       "       'foreign_matter_percent_maize_grain', 'pest_damaged', 'rotten',\n",
       "       'condsample', 'bags_sampled', 'districts', 'price', 'moisturechanges',\n",
       "       'romerid', 'totaldefective', 'url', 'theurl', 'expiration',\n",
       "       'production', 'batchnumber', 'batchnumberflour', 'linkedclient',\n",
       "       'linkedtones', 'labtested'],\n",
       "      dtype='object')"
      ]
     },
     "execution_count": 17,
     "metadata": {},
     "output_type": "execute_result"
    }
   ],
   "source": [
    "grain_data.columns"
   ]
  },
  {
   "cell_type": "markdown",
   "metadata": {},
   "source": [
    "### Removing all columns that are not part of the grain parameters"
   ]
  },
  {
   "cell_type": "code",
   "execution_count": 18,
   "metadata": {},
   "outputs": [],
   "source": [
    "grain_data = grain_data.drop(columns=[\"batch_label\", \"final_grade\", \"organisation_id\", \"description\",\"price\",\"moisturechanges\",\"romerid\",\"totaldefective\",\"url\",\"theurl\",\"expiration\",\"production\",\"batchnumber\",\"batchnumberflour\",\"linkedclient\",\"linkedtones\",\"labtested\"], errors='ignore')"
   ]
  },
  {
   "cell_type": "code",
   "execution_count": 19,
   "metadata": {},
   "outputs": [
    {
     "data": {
      "text/html": [
       "<div>\n",
       "<style scoped>\n",
       "    .dataframe tbody tr th:only-of-type {\n",
       "        vertical-align: middle;\n",
       "    }\n",
       "\n",
       "    .dataframe tbody tr th {\n",
       "        vertical-align: top;\n",
       "    }\n",
       "\n",
       "    .dataframe thead th {\n",
       "        text-align: right;\n",
       "    }\n",
       "</style>\n",
       "<table border=\"1\" class=\"dataframe\">\n",
       "  <thead>\n",
       "    <tr style=\"text-align: right;\">\n",
       "      <th></th>\n",
       "      <th>id</th>\n",
       "      <th>batch_quantity_mts</th>\n",
       "      <th>batch_crop</th>\n",
       "      <th>batch_product</th>\n",
       "      <th>product_origin</th>\n",
       "      <th>year</th>\n",
       "      <th>test_type</th>\n",
       "      <th>storage_type</th>\n",
       "      <th>moisture_maize_grain</th>\n",
       "      <th>Immaturegrains</th>\n",
       "      <th>...</th>\n",
       "      <th>nvcondition</th>\n",
       "      <th>season</th>\n",
       "      <th>Other_colors</th>\n",
       "      <th>broken_kernels_percent_maize_grain</th>\n",
       "      <th>foreign_matter_percent_maize_grain</th>\n",
       "      <th>pest_damaged</th>\n",
       "      <th>rotten</th>\n",
       "      <th>condsample</th>\n",
       "      <th>bags_sampled</th>\n",
       "      <th>districts</th>\n",
       "    </tr>\n",
       "  </thead>\n",
       "  <tbody>\n",
       "    <tr>\n",
       "      <th>0</th>\n",
       "      <td>1</td>\n",
       "      <td>NaN</td>\n",
       "      <td>Maize</td>\n",
       "      <td>Grain</td>\n",
       "      <td>Uganda</td>\n",
       "      <td>2022.0</td>\n",
       "      <td>First</td>\n",
       "      <td>Store</td>\n",
       "      <td>14.2</td>\n",
       "      <td>1.3</td>\n",
       "      <td>...</td>\n",
       "      <td>NaN</td>\n",
       "      <td>A</td>\n",
       "      <td>NaN</td>\n",
       "      <td>NaN</td>\n",
       "      <td>NaN</td>\n",
       "      <td>1.40</td>\n",
       "      <td>1.5</td>\n",
       "      <td>Good</td>\n",
       "      <td>5.0</td>\n",
       "      <td>NaN</td>\n",
       "    </tr>\n",
       "    <tr>\n",
       "      <th>1</th>\n",
       "      <td>2</td>\n",
       "      <td>NaN</td>\n",
       "      <td>Maize</td>\n",
       "      <td>Grain</td>\n",
       "      <td>Uganda</td>\n",
       "      <td>2022.0</td>\n",
       "      <td>First</td>\n",
       "      <td>Store</td>\n",
       "      <td>14.8</td>\n",
       "      <td>2.0</td>\n",
       "      <td>...</td>\n",
       "      <td>NaN</td>\n",
       "      <td>A</td>\n",
       "      <td>NaN</td>\n",
       "      <td>NaN</td>\n",
       "      <td>0.15</td>\n",
       "      <td>2.00</td>\n",
       "      <td>5.0</td>\n",
       "      <td>Good</td>\n",
       "      <td>5.0</td>\n",
       "      <td>NaN</td>\n",
       "    </tr>\n",
       "    <tr>\n",
       "      <th>2</th>\n",
       "      <td>3</td>\n",
       "      <td>NaN</td>\n",
       "      <td>Maize</td>\n",
       "      <td>Grain</td>\n",
       "      <td>Uganda</td>\n",
       "      <td>2022.0</td>\n",
       "      <td>First</td>\n",
       "      <td>warehouse</td>\n",
       "      <td>13.3</td>\n",
       "      <td>3.0</td>\n",
       "      <td>...</td>\n",
       "      <td>NaN</td>\n",
       "      <td>A</td>\n",
       "      <td>NaN</td>\n",
       "      <td>NaN</td>\n",
       "      <td>NaN</td>\n",
       "      <td>2.50</td>\n",
       "      <td>5.5</td>\n",
       "      <td>Good</td>\n",
       "      <td>5.0</td>\n",
       "      <td>NaN</td>\n",
       "    </tr>\n",
       "    <tr>\n",
       "      <th>3</th>\n",
       "      <td>4</td>\n",
       "      <td>NaN</td>\n",
       "      <td>Maize</td>\n",
       "      <td>Grain</td>\n",
       "      <td>Uganda</td>\n",
       "      <td>2022.0</td>\n",
       "      <td>First</td>\n",
       "      <td>Store</td>\n",
       "      <td>14.5</td>\n",
       "      <td>2.0</td>\n",
       "      <td>...</td>\n",
       "      <td>NaN</td>\n",
       "      <td>A</td>\n",
       "      <td>NaN</td>\n",
       "      <td>NaN</td>\n",
       "      <td>0.05</td>\n",
       "      <td>2.50</td>\n",
       "      <td>4.0</td>\n",
       "      <td>Good</td>\n",
       "      <td>5.0</td>\n",
       "      <td>NaN</td>\n",
       "    </tr>\n",
       "    <tr>\n",
       "      <th>4</th>\n",
       "      <td>14</td>\n",
       "      <td>32.0</td>\n",
       "      <td>Maize</td>\n",
       "      <td>Grain</td>\n",
       "      <td>Tanzania</td>\n",
       "      <td>2022.0</td>\n",
       "      <td>First</td>\n",
       "      <td>WareHouse</td>\n",
       "      <td>12.4</td>\n",
       "      <td>0.0</td>\n",
       "      <td>...</td>\n",
       "      <td>NaN</td>\n",
       "      <td>A</td>\n",
       "      <td>NaN</td>\n",
       "      <td>0.0</td>\n",
       "      <td>0.00</td>\n",
       "      <td>0.45</td>\n",
       "      <td>0.0</td>\n",
       "      <td>Good</td>\n",
       "      <td>25.0</td>\n",
       "      <td>NaN</td>\n",
       "    </tr>\n",
       "  </tbody>\n",
       "</table>\n",
       "<p>5 rows × 25 columns</p>\n",
       "</div>"
      ],
      "text/plain": [
       "   id  batch_quantity_mts batch_crop batch_product product_origin    year  \\\n",
       "0   1                 NaN      Maize         Grain         Uganda  2022.0   \n",
       "1   2                 NaN      Maize         Grain         Uganda  2022.0   \n",
       "2   3                 NaN      Maize         Grain         Uganda  2022.0   \n",
       "3   4                 NaN      Maize         Grain         Uganda  2022.0   \n",
       "4  14                32.0      Maize         Grain       Tanzania  2022.0   \n",
       "\n",
       "  test_type storage_type  moisture_maize_grain  Immaturegrains  ...  \\\n",
       "0     First        Store                  14.2             1.3  ...   \n",
       "1     First        Store                  14.8             2.0  ...   \n",
       "2     First    warehouse                  13.3             3.0  ...   \n",
       "3     First        Store                  14.5             2.0  ...   \n",
       "4     First    WareHouse                  12.4             0.0  ...   \n",
       "\n",
       "   nvcondition season  Other_colors broken_kernels_percent_maize_grain  \\\n",
       "0          NaN      A           NaN                                NaN   \n",
       "1          NaN      A           NaN                                NaN   \n",
       "2          NaN      A           NaN                                NaN   \n",
       "3          NaN      A           NaN                                NaN   \n",
       "4          NaN      A           NaN                                0.0   \n",
       "\n",
       "  foreign_matter_percent_maize_grain  pest_damaged rotten  condsample  \\\n",
       "0                                NaN          1.40    1.5        Good   \n",
       "1                               0.15          2.00    5.0        Good   \n",
       "2                                NaN          2.50    5.5        Good   \n",
       "3                               0.05          2.50    4.0        Good   \n",
       "4                               0.00          0.45    0.0        Good   \n",
       "\n",
       "   bags_sampled  districts  \n",
       "0           5.0        NaN  \n",
       "1           5.0        NaN  \n",
       "2           5.0        NaN  \n",
       "3           5.0        NaN  \n",
       "4          25.0        NaN  \n",
       "\n",
       "[5 rows x 25 columns]"
      ]
     },
     "execution_count": 19,
     "metadata": {},
     "output_type": "execute_result"
    }
   ],
   "source": [
    "grain_data.head()"
   ]
  },
  {
   "cell_type": "markdown",
   "metadata": {},
   "source": [
    "### Analsyis on Moisture content"
   ]
  },
  {
   "cell_type": "code",
   "execution_count": 21,
   "metadata": {},
   "outputs": [
    {
     "data": {
      "text/plain": [
       "count    1305.000000\n",
       "mean       14.917372\n",
       "std         6.304560\n",
       "min         0.000000\n",
       "25%        12.900000\n",
       "50%        13.700000\n",
       "75%        15.600000\n",
       "max       192.000000\n",
       "Name: moisture_maize_grain, dtype: float64"
      ]
     },
     "execution_count": 21,
     "metadata": {},
     "output_type": "execute_result"
    }
   ],
   "source": [
    "grain_data[\"moisture_maize_grain\"].describe()\n"
   ]
  },
  {
   "cell_type": "code",
   "execution_count": 23,
   "metadata": {},
   "outputs": [
    {
     "data": {
      "image/png": "[encoded data removed]",
      "text/plain": [
       "<Figure size 800x500 with 1 Axes>"
      ]
     },
     "metadata": {},
     "output_type": "display_data"
    }
   ],
   "source": [
    "import seaborn as sns\n",
    "import matplotlib.pyplot as plt\n",
    "\n",
    "plt.figure(figsize=(8, 5))\n",
    "sns.histplot(grain_data[\"moisture_maize_grain\"], bins=10, kde=True, color=\"skyblue\")\n",
    "plt.title(\"Distribution of Moisture Content\")\n",
    "plt.xlabel(\"Moisture (%)\")\n",
    "plt.ylabel(\"Frequency\")\n",
    "plt.grid(True)\n",
    "plt.show()\n"
   ]
  },
  {
   "cell_type": "code",
   "execution_count": 24,
   "metadata": {},
   "outputs": [
    {
     "data": {
      "image/png": "[encoded data removed]",
      "text/plain": [
       "<Figure size 600x200 with 1 Axes>"
      ]
     },
     "metadata": {},
     "output_type": "display_data"
    }
   ],
   "source": [
    "plt.figure(figsize=(6, 2))\n",
    "sns.boxplot(x=grain_data[\"moisture_maize_grain\"], color=\"orange\")\n",
    "plt.title(\"Boxplot of Moisture Content\")\n",
    "plt.xlabel(\"Moisture (%)\")\n",
    "plt.show()\n"
   ]
  },
  {
   "cell_type": "markdown",
   "metadata": {},
   "source": [
    "### Check Unique Values and Spread"
   ]
  },
  {
   "cell_type": "code",
   "execution_count": 25,
   "metadata": {},
   "outputs": [
    {
     "data": {
      "text/plain": [
       "moisture_maize_grain\n",
       "0.0      2\n",
       "2.0      1\n",
       "2.1      1\n",
       "7.7      1\n",
       "8.0      1\n",
       "        ..\n",
       "48.3     2\n",
       "52.3     1\n",
       "54.3     1\n",
       "55.6     1\n",
       "192.0    1\n",
       "Name: count, Length: 152, dtype: int64"
      ]
     },
     "execution_count": 25,
     "metadata": {},
     "output_type": "execute_result"
    }
   ],
   "source": [
    "grain_data[\"moisture_maize_grain\"].value_counts().sort_index()\n"
   ]
  },
  {
   "cell_type": "code",
   "execution_count": 28,
   "metadata": {},
   "outputs": [
    {
     "data": {
      "image/png": "[encoded data removed]",
      "text/plain": [
       "<Figure size 800x500 with 1 Axes>"
      ]
     },
     "metadata": {},
     "output_type": "display_data"
    }
   ],
   "source": [
    "import seaborn as sns\n",
    "\n",
    "plt.figure(figsize=(8, 5))\n",
    "sns.histplot(grain_data[\"moisture_maize_grain\"], bins=10, kde=False, color=\"skyblue\")\n",
    "plt.title(\"Histogram of Moisture Content\")\n",
    "plt.xlabel(\"Moisture (%)\")\n",
    "plt.ylabel(\"Frequency\")\n",
    "plt.grid(True)\n",
    "plt.show()\n"
   ]
  },
  {
   "cell_type": "code",
   "execution_count": 29,
   "metadata": {},
   "outputs": [
    {
     "data": {
      "image/png": "[encoded data removed]",
      "text/plain": [
       "<Figure size 1400x500 with 1 Axes>"
      ]
     },
     "metadata": {},
     "output_type": "display_data"
    }
   ],
   "source": [
    "import matplotlib.pyplot as plt\n",
    "\n",
    "plt.figure(figsize=(14, 5))\n",
    "plt.bar(x=range(len(grain_data[\"moisture_maize_grain\"])), \n",
    "        height=grain_data[\"moisture_maize_grain\"], \n",
    "        color='skyblue')\n",
    "\n",
    "plt.title(\"Moisture Content for Each Sample\")\n",
    "plt.xlabel(\"Sample Index\")\n",
    "plt.ylabel(\"Moisture (%)\")\n",
    "plt.grid(True)\n",
    "plt.show()\n"
   ]
  },
  {
   "cell_type": "markdown",
   "metadata": {},
   "source": [
    "### Aflatoxin analysis"
   ]
  },
  {
   "cell_type": "code",
   "execution_count": 30,
   "metadata": {},
   "outputs": [
    {
     "data": {
      "text/plain": [
       "count     1300.000000\n",
       "mean        49.193615\n",
       "std        582.545581\n",
       "min          0.000000\n",
       "25%          4.300000\n",
       "50%          6.000000\n",
       "75%         26.300000\n",
       "max      20732.000000\n",
       "Name: total_aflatoxins_ug_kg_maize_grain, dtype: float64"
      ]
     },
     "execution_count": 30,
     "metadata": {},
     "output_type": "execute_result"
    }
   ],
   "source": [
    "grain_data[\"total_aflatoxins_ug_kg_maize_grain\"].describe()"
   ]
  }
 ],
 "metadata": {
  "kernelspec": {
   "display_name": "env",
   "language": "python",
   "name": "python3"
  },
  "language_info": {
   "codemirror_mode": {
    "name": "ipython",
    "version": 3
   },
   "file_extension": ".py",
   "mimetype": "text/x-python",
   "name": "python",
   "nbconvert_exporter": "python",
   "pygments_lexer": "ipython3",
   "version": "3.9.13"
  }
 },
 "nbformat": 4,
 "nbformat_minor": 2
}
